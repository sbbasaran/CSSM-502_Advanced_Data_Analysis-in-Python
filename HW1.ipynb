{
 "cells": [
  {
   "cell_type": "code",
   "execution_count": 60,
   "id": "6423d530",
   "metadata": {},
   "outputs": [],
   "source": [
    "stock_names_dict = {}\n",
    "\n",
    "class Portfolio:\n",
    "    def __init__(self):\n",
    "        self.cash = 0\n",
    "        self.stock_dict = {}\n",
    "        self.mf_dict = {}\n",
    "\n",
    "    def addCash(self, value):\n",
    "        self.cash += value\n",
    "\n",
    "    def buyStock(self, num_shares, stock_obj):\n",
    "        self.cash -= stock_obj.price * num_shares\n",
    "        if stock_obj.symbol in self.stock_dict:\n",
    "            self.stock_dict[stock_obj.symbol] += num_shares\n",
    "        else:\n",
    "            self.stock_dict[stock_obj.symbol] = num_shares\n",
    "\n",
    "    def __str__(self):\n",
    "        return f'cash: ${self.cash} \\nstock: {self.stock_dict} \\nMutual funds: {self.mf_dict}'\n",
    "\n",
    "    def buyMutualFund(self, num_shares, mf_obj):\n",
    "        self.cash -= num_shares\n",
    "        if mf_obj.symbol in self.stock_dict:\n",
    "            self.mf_dict[mf_obj.symbol] += num_shares\n",
    "        else:\n",
    "            self.mf_dict[mf_obj.symbol] = num_shares    \n",
    "    \n",
    "    def sellMutualFund(self, symbol , num_shares):\n",
    "        self.cash += num_shares\n",
    "        if symbol in self.mf_dict:\n",
    "            self.mf_dict[symbol] -= num_shares\n",
    "        else:\n",
    "            self.mf_dict[symbol] = num_shares   \n",
    "    \n",
    "    def sellStock(self, symbol,num_shares):\n",
    "        self.cash -= stock_names_dict[symbol] * num_shares\n",
    "        if symbol in self.stock_dict:\n",
    "            self.stock_dict[symbol] += num_shares\n",
    "        else:\n",
    "            self.stock_dict[symbol] = num_shares\n",
    "    \n",
    "class Stock:\n",
    "    def __init__(self, price, symbol):\n",
    "        self.price = price\n",
    "        self.symbol = symbol\n",
    "        stock_names_dict[symbol] = price\n",
    "        \n",
    "        \n",
    "class MutualFund:\n",
    "    def __init__(self,symbol):\n",
    "        self.symbol = symbol\n"
   ]
  },
  {
   "cell_type": "code",
   "execution_count": 61,
   "id": "c3ffaf71",
   "metadata": {},
   "outputs": [
    {
     "name": "stdout",
     "output_type": "stream",
     "text": [
      "cash: $171.2 \n",
      "stock: {'HFH': 6} \n",
      "Mutual funds: {'BRT': 7.300000000000001, 'GHT': 2}\n"
     ]
    }
   ],
   "source": [
    "portfolio = Portfolio()\n",
    "portfolio.addCash(300.50)\n",
    "s = Stock(20, \"HFH\")\n",
    "portfolio.buyStock(5, s)\n",
    "mf1 = MutualFund(\"BRT\")\n",
    "mf2 = MutualFund(\"GHT\")\n",
    "portfolio.buyMutualFund(10.3, mf1)\n",
    "portfolio.buyMutualFund(2, mf2)\n",
    "portfolio.sellMutualFund(\"BRT\", 3)\n",
    "portfolio.sellStock(\"HFH\", 1)\n",
    "print(portfolio)"
   ]
  },
  {
   "cell_type": "code",
   "execution_count": null,
   "id": "d1a3894e",
   "metadata": {},
   "outputs": [],
   "source": []
  }
 ],
 "metadata": {
  "interpreter": {
   "hash": "b3ba2566441a7c06988d0923437866b63cedc61552a5af99d1f4fb67d367b25f"
  },
  "kernelspec": {
   "display_name": "Python 3",
   "language": "python",
   "name": "python3"
  },
  "language_info": {
   "codemirror_mode": {
    "name": "ipython",
    "version": 3
   },
   "file_extension": ".py",
   "mimetype": "text/x-python",
   "name": "python",
   "nbconvert_exporter": "python",
   "pygments_lexer": "ipython3",
   "version": "3.8.8"
  }
 },
 "nbformat": 4,
 "nbformat_minor": 5
}
