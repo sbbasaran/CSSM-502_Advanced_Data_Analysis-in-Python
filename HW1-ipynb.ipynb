{
 "cells": [
  {
   "cell_type": "code",
   "execution_count": 94,
   "id": "6423d530",
   "metadata": {},
   "outputs": [],
   "source": [
    "import random\n",
    "import time\n",
    "\n",
    "stock_names_dict = {}\n",
    "\n",
    "class Portfolio:\n",
    "    def __init__(self):\n",
    "        self.cash = 0\n",
    "        self.stock_dict = {}\n",
    "        self.mf_dict = {}\n",
    "        self.operations = {} \n",
    "\n",
    "    def addCash(self, value):\n",
    "        self.cash += value\n",
    "        self.operations[f'addCash={value}'] = time.time()\n",
    "        \n",
    "    def withdrawCash(self, value):\n",
    "        self.cash -= value\n",
    "        self.operations[f'withdrawCash={value}'] = time.time()\n",
    "\n",
    "    def buyStock(self, num_shares, stock_obj):\n",
    "        self.cash -= stock_obj.price * num_shares\n",
    "        if stock_obj.symbol in self.stock_dict:\n",
    "            self.stock_dict[stock_obj.symbol] += num_shares\n",
    "        else:\n",
    "            self.stock_dict[stock_obj.symbol] = num_shares\n",
    "        self.operations[f'buyStock={num_shares}'] = time.time()\n",
    "\n",
    "\n",
    "    def __str__(self):\n",
    "        return f'cash: ${self.cash} \\nstock: {self.stock_dict} \\nMutual funds: {self.mf_dict}'\n",
    "\n",
    "    def buyMutualFund(self, num_shares, mf_obj):\n",
    "        self.cash -= num_shares\n",
    "        if mf_obj.symbol in self.stock_dict:\n",
    "            self.mf_dict[mf_obj.symbol] += num_shares\n",
    "        else:\n",
    "            self.mf_dict[mf_obj.symbol] = num_shares\n",
    "        self.operations[f'buyMutualFund={num_shares}'] = time.time()\n",
    "    \n",
    "    def sellMutualFund(self, symbol , num_shares):\n",
    "        random_price = random.uniform(0.9,1.2)\n",
    "        self.cash += random_price * num_shares\n",
    "        if symbol in self.mf_dict:\n",
    "            self.mf_dict[symbol] -= num_shares\n",
    "        else:\n",
    "            self.mf_dict[symbol] = num_shares \n",
    "        self.operations[f'sellMutualFund={num_shares}'] = time.time()\n",
    "    \n",
    "    def sellStock(self, symbol,num_shares):\n",
    "        random_price = random.uniform(0.5 * stock_names_dict[symbol],1.5 * stock_names_dict[symbol])\n",
    "        self.cash += random_price  * num_shares\n",
    "        if symbol in self.stock_dict:\n",
    "            self.stock_dict[symbol] += num_shares\n",
    "        else:\n",
    "            self.stock_dict[symbol] = num_shares\n",
    "        self.operations[f'sellStock={num_shares}'] = time.time()\n",
    "            \n",
    "    def history(self):\n",
    "        self.operations={k: v for k, v in sorted(self.operations.items(), key=lambda item: item[1])}\n",
    "        print(self.operations.keys())\n",
    "    \n",
    "class Stock:\n",
    "    def __init__(self, price, symbol):\n",
    "        self.price = price\n",
    "        self.symbol = symbol\n",
    "        stock_names_dict[symbol] = price\n",
    "        \n",
    "        \n",
    "class MutualFund:\n",
    "    def __init__(self,symbol):\n",
    "        self.symbol = symbol\n",
    "\n"
   ]
  },
  {
   "cell_type": "code",
   "execution_count": 95,
   "id": "c3ffaf71",
   "metadata": {},
   "outputs": [
    {
     "name": "stdout",
     "output_type": "stream",
     "text": [
      "cash: $300.5 \n",
      "stock: {} \n",
      "Mutual funds: {}\n"
     ]
    }
   ],
   "source": [
    "portfolio = Portfolio()\n",
    "portfolio.addCash(300.50)\n",
    "print(portfolio)"
   ]
  },
  {
   "cell_type": "code",
   "execution_count": 96,
   "id": "d1a3894e",
   "metadata": {},
   "outputs": [
    {
     "name": "stdout",
     "output_type": "stream",
     "text": [
      "cash: $300.5 \n",
      "stock: {} \n",
      "Mutual funds: {}\n"
     ]
    }
   ],
   "source": [
    "s = Stock(20, \"HFH\")\n",
    "print(portfolio)"
   ]
  },
  {
   "cell_type": "code",
   "execution_count": 97,
   "id": "d0db12a4",
   "metadata": {},
   "outputs": [
    {
     "name": "stdout",
     "output_type": "stream",
     "text": [
      "cash: $188.2 \n",
      "stock: {'HFH': 5} \n",
      "Mutual funds: {'BRT': 10.3, 'GHT': 2}\n"
     ]
    }
   ],
   "source": [
    "portfolio.buyStock(5, s)\n",
    "mf1 = MutualFund(\"BRT\")\n",
    "mf2 = MutualFund(\"GHT\")\n",
    "portfolio.buyMutualFund(10.3, mf1)\n",
    "portfolio.buyMutualFund(2, mf2)\n",
    "print(portfolio)"
   ]
  },
  {
   "cell_type": "code",
   "execution_count": 98,
   "id": "a41c9866",
   "metadata": {},
   "outputs": [
    {
     "name": "stdout",
     "output_type": "stream",
     "text": [
      "cash: $191.4548259525521 \n",
      "stock: {'HFH': 5} \n",
      "Mutual funds: {'BRT': 7.300000000000001, 'GHT': 2}\n"
     ]
    }
   ],
   "source": [
    "portfolio.sellMutualFund(\"BRT\", 3)\n",
    "print(portfolio)"
   ]
  },
  {
   "cell_type": "code",
   "execution_count": 99,
   "id": "2ae7b61c",
   "metadata": {},
   "outputs": [
    {
     "name": "stdout",
     "output_type": "stream",
     "text": [
      "cash: $215.7664928025338 \n",
      "stock: {'HFH': 6} \n",
      "Mutual funds: {'BRT': 7.300000000000001, 'GHT': 2}\n"
     ]
    }
   ],
   "source": [
    "portfolio.sellStock(\"HFH\", 1)\n",
    "print(portfolio)"
   ]
  },
  {
   "cell_type": "code",
   "execution_count": 100,
   "id": "57e84d15",
   "metadata": {},
   "outputs": [
    {
     "name": "stdout",
     "output_type": "stream",
     "text": [
      "cash: $215.7664928025338 \n",
      "stock: {'HFH': 6} \n",
      "Mutual funds: {'BRT': 7.300000000000001, 'GHT': 2}\n"
     ]
    }
   ],
   "source": [
    "print(portfolio)"
   ]
  },
  {
   "cell_type": "code",
   "execution_count": 101,
   "id": "43efd9e7",
   "metadata": {},
   "outputs": [
    {
     "name": "stdout",
     "output_type": "stream",
     "text": [
      "cash: $165.7664928025338 \n",
      "stock: {'HFH': 6} \n",
      "Mutual funds: {'BRT': 7.300000000000001, 'GHT': 2}\n"
     ]
    }
   ],
   "source": [
    "portfolio.withdrawCash(50)\n",
    "print(portfolio)"
   ]
  },
  {
   "cell_type": "code",
   "execution_count": 102,
   "id": "ebddef85",
   "metadata": {},
   "outputs": [
    {
     "name": "stdout",
     "output_type": "stream",
     "text": [
      "dict_keys(['addCash=300.5', 'buyStock=5', 'buyMutualFund=10.3', 'buyMutualFund=2', 'sellMutualFund=3', 'sellStock=1', 'withdrawCash=50'])\n"
     ]
    }
   ],
   "source": [
    "portfolio.history()"
   ]
  },
  {
   "cell_type": "code",
   "execution_count": 103,
   "id": "1acad024",
   "metadata": {},
   "outputs": [
    {
     "name": "stdout",
     "output_type": "stream",
     "text": [
      "cash: $165.7664928025338 \n",
      "stock: {'HFH': 6} \n",
      "Mutual funds: {'BRT': 7.300000000000001, 'GHT': 2}\n"
     ]
    }
   ],
   "source": [
    "print(portfolio)"
   ]
  },
  {
   "cell_type": "code",
   "execution_count": null,
   "id": "27e9b11f",
   "metadata": {},
   "outputs": [],
   "source": []
  },
  {
   "cell_type": "code",
   "execution_count": null,
   "id": "ecca6c48",
   "metadata": {},
   "outputs": [],
   "source": []
  },
  {
   "cell_type": "code",
   "execution_count": null,
   "id": "97dd9631",
   "metadata": {},
   "outputs": [],
   "source": []
  }
 ],
 "metadata": {
  "interpreter": {
   "hash": "b3ba2566441a7c06988d0923437866b63cedc61552a5af99d1f4fb67d367b25f"
  },
  "kernelspec": {
   "display_name": "Python 3",
   "language": "python",
   "name": "python3"
  },
  "language_info": {
   "codemirror_mode": {
    "name": "ipython",
    "version": 3
   },
   "file_extension": ".py",
   "mimetype": "text/x-python",
   "name": "python",
   "nbconvert_exporter": "python",
   "pygments_lexer": "ipython3",
   "version": "3.8.8"
  }
 },
 "nbformat": 4,
 "nbformat_minor": 5
}
