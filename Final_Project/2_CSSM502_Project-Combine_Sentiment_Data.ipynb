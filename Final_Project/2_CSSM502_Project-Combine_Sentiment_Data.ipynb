{
 "cells": [
  {
   "cell_type": "code",
   "execution_count": 1,
   "id": "acd1c8c9",
   "metadata": {},
   "outputs": [],
   "source": [
    "import pandas as pd"
   ]
  },
  {
   "cell_type": "code",
   "execution_count": 2,
   "id": "cca36133",
   "metadata": {},
   "outputs": [],
   "source": [
    "tweets_1 = pd.read_csv(\"TurkishTweets.csv\") # https://github.com/ezgisubasi/turkish-tweets-sentiment-analysis/blob/main/data/TurkishTweets.csv\n",
    "tweets_2 = pd.read_csv(\"tweetset.csv\", encoding=\"windows-1254\") # https://github.com/ezgisubasi/turkish-tweets-sentiment-analysis/blob/main/data/tweetset.csv\n",
    "movies = pd.read_csv(\"turkish_movie_sentiment_dataset.csv\") # https://www.kaggle.com/mustfkeskin/turkish-movie-sentiment-analysis-dataset"
   ]
  },
  {
   "cell_type": "code",
   "execution_count": 3,
   "id": "8aa3252c",
   "metadata": {},
   "outputs": [],
   "source": [
    "tweets_1 = tweets_1.dropna().reset_index(drop=True)\n",
    "tweets_2 = tweets_2.dropna(axis=1)\n",
    "tweets_2 = tweets_2[[\"Paylaşım\", \"Tip\"]]"
   ]
  },
  {
   "cell_type": "code",
   "execution_count": 4,
   "id": "310c9558",
   "metadata": {},
   "outputs": [],
   "source": [
    "tweets_1[\"Etiket\"] = tweets_1[\"Etiket\"].replace({\"kızgın\": \"Negative\", \"korku\": \"Negative\", \"mutlu\": \"Positive\", \n",
    "                                                 \"surpriz\": \"Positive\", \"üzgün\": \"Negative\"})\n",
    "tweets_1.columns = [\"text\", \"sentiment\"]\n",
    "\n",
    "tweets_2[\"Tip\"] = tweets_2[\"Tip\"].replace({\"Pozitif\": \"Positive\", \"Negatif\": \"Negative\", \" Negatif\": \"Negative\"})\n",
    "tweets_2.columns = [\"text\", \"sentiment\"]"
   ]
  },
  {
   "cell_type": "code",
   "execution_count": 5,
   "id": "a498322b",
   "metadata": {},
   "outputs": [],
   "source": [
    "movies = movies[[\"comment\", \"point\"]]\n",
    "movies[\"point\"] = movies[\"point\"].apply(lambda x: '.'.join(x.split(','))).astype(float)\n",
    "movies = movies[movies[\"point\"] != 2.5].reset_index(drop=True)\n",
    "movies[\"point\"] = movies[\"point\"].apply(lambda x: \"Positive\" if x > 2.5 else \"Negative\")\n",
    "movies.columns = [\"text\", \"sentiment\"]"
   ]
  },
  {
   "cell_type": "code",
   "execution_count": 6,
   "id": "099d8eae",
   "metadata": {},
   "outputs": [],
   "source": [
    "df = pd.concat([tweets_1, tweets_2, movies])"
   ]
  },
  {
   "cell_type": "code",
   "execution_count": 7,
   "id": "9ea71cff",
   "metadata": {},
   "outputs": [],
   "source": [
    "df.to_csv(\"sentiment_data.csv\", index=False)"
   ]
  }
 ],
 "metadata": {
  "kernelspec": {
   "display_name": "Python 3 (ipykernel)",
   "language": "python",
   "name": "python3"
  },
  "language_info": {
   "codemirror_mode": {
    "name": "ipython",
    "version": 3
   },
   "file_extension": ".py",
   "mimetype": "text/x-python",
   "name": "python",
   "nbconvert_exporter": "python",
   "pygments_lexer": "ipython3",
   "version": "3.8.12"
  }
 },
 "nbformat": 4,
 "nbformat_minor": 5
}
