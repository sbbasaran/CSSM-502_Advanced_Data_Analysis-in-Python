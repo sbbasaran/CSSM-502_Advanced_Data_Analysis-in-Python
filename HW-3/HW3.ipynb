{
 "cells": [
  {
   "cell_type": "code",
   "execution_count": 171,
   "id": "596791b5",
   "metadata": {},
   "outputs": [],
   "source": [
    "import pandas as pd\n",
    "import numpy as np\n",
    "import matplotlib.pyplot as plt\n",
    "import seaborn as sns\n",
    "\n",
    "from sklearn.model_selection import train_test_split, cross_val_score, cross_val_predict\n",
    "from sklearn.naive_bayes import GaussianNB\n",
    "from sklearn.metrics import accuracy_score\n",
    "from sklearn.metrics import confusion_matrix\n",
    "from sklearn.neighbors import KNeighborsClassifier\n",
    "from sklearn.svm import LinearSVC\n",
    "from sklearn.metrics import classification_report\n",
    "from sklearn.linear_model import LogisticRegression\n",
    "from sklearn.discriminant_analysis import LinearDiscriminantAnalysis, QuadraticDiscriminantAnalysis\n",
    "from sklearn.ensemble import RandomForestClassifier\n",
    "from sklearn.cluster import KMeans\n",
    "from sklearn.ensemble import VotingClassifier\n",
    "from sklearn.feature_selection import RFECV\n",
    "from sklearn.model_selection import cross_validate\n",
    "from sklearn.model_selection import train_test_split\n",
    "from sklearn.model_selection import cross_val_score\n",
    "from sklearn.feature_extraction import DictVectorizer\n",
    "\n",
    "import warnings \n",
    "warnings.filterwarnings('ignore')\n"
   ]
  },
  {
   "cell_type": "code",
   "execution_count": 172,
   "id": "813298ad",
   "metadata": {},
   "outputs": [],
   "source": [
    "df = pd.read_csv(\"/Users/ideakadikoy/Desktop/cses4_cut.csv\")"
   ]
  },
  {
   "cell_type": "code",
   "execution_count": 173,
   "id": "85f43f81",
   "metadata": {},
   "outputs": [
    {
     "data": {
      "text/html": [
       "<div>\n",
       "<style scoped>\n",
       "    .dataframe tbody tr th:only-of-type {\n",
       "        vertical-align: middle;\n",
       "    }\n",
       "\n",
       "    .dataframe tbody tr th {\n",
       "        vertical-align: top;\n",
       "    }\n",
       "\n",
       "    .dataframe thead th {\n",
       "        text-align: right;\n",
       "    }\n",
       "</style>\n",
       "<table border=\"1\" class=\"dataframe\">\n",
       "  <thead>\n",
       "    <tr style=\"text-align: right;\">\n",
       "      <th></th>\n",
       "      <th>D2002</th>\n",
       "      <th>D2003</th>\n",
       "      <th>D2004</th>\n",
       "      <th>D2005</th>\n",
       "      <th>D2006</th>\n",
       "      <th>D2007</th>\n",
       "      <th>D2008</th>\n",
       "      <th>D2009</th>\n",
       "      <th>D2010</th>\n",
       "      <th>D2011</th>\n",
       "      <th>...</th>\n",
       "      <th>D2024</th>\n",
       "      <th>D2025</th>\n",
       "      <th>D2026</th>\n",
       "      <th>D2027</th>\n",
       "      <th>D2028</th>\n",
       "      <th>D2029</th>\n",
       "      <th>D2030</th>\n",
       "      <th>D2031</th>\n",
       "      <th>age</th>\n",
       "      <th>voted</th>\n",
       "    </tr>\n",
       "  </thead>\n",
       "  <tbody>\n",
       "    <tr>\n",
       "      <th>0</th>\n",
       "      <td>1</td>\n",
       "      <td>4</td>\n",
       "      <td>4</td>\n",
       "      <td>2</td>\n",
       "      <td>2</td>\n",
       "      <td>9</td>\n",
       "      <td>9</td>\n",
       "      <td>9</td>\n",
       "      <td>1</td>\n",
       "      <td>422</td>\n",
       "      <td>...</td>\n",
       "      <td>9</td>\n",
       "      <td>9</td>\n",
       "      <td>8300</td>\n",
       "      <td>121</td>\n",
       "      <td>8</td>\n",
       "      <td>999</td>\n",
       "      <td>999</td>\n",
       "      <td>4</td>\n",
       "      <td>31</td>\n",
       "      <td>True</td>\n",
       "    </tr>\n",
       "    <tr>\n",
       "      <th>1</th>\n",
       "      <td>2</td>\n",
       "      <td>3</td>\n",
       "      <td>1</td>\n",
       "      <td>2</td>\n",
       "      <td>2</td>\n",
       "      <td>9</td>\n",
       "      <td>9</td>\n",
       "      <td>9</td>\n",
       "      <td>8</td>\n",
       "      <td>999</td>\n",
       "      <td>...</td>\n",
       "      <td>6</td>\n",
       "      <td>9</td>\n",
       "      <td>1101</td>\n",
       "      <td>121</td>\n",
       "      <td>12</td>\n",
       "      <td>999</td>\n",
       "      <td>999</td>\n",
       "      <td>4</td>\n",
       "      <td>42</td>\n",
       "      <td>True</td>\n",
       "    </tr>\n",
       "    <tr>\n",
       "      <th>2</th>\n",
       "      <td>2</td>\n",
       "      <td>2</td>\n",
       "      <td>1</td>\n",
       "      <td>2</td>\n",
       "      <td>2</td>\n",
       "      <td>9</td>\n",
       "      <td>9</td>\n",
       "      <td>9</td>\n",
       "      <td>7</td>\n",
       "      <td>818</td>\n",
       "      <td>...</td>\n",
       "      <td>5</td>\n",
       "      <td>9</td>\n",
       "      <td>1101</td>\n",
       "      <td>121</td>\n",
       "      <td>2</td>\n",
       "      <td>999</td>\n",
       "      <td>999</td>\n",
       "      <td>4</td>\n",
       "      <td>67</td>\n",
       "      <td>True</td>\n",
       "    </tr>\n",
       "    <tr>\n",
       "      <th>3</th>\n",
       "      <td>2</td>\n",
       "      <td>4</td>\n",
       "      <td>4</td>\n",
       "      <td>2</td>\n",
       "      <td>2</td>\n",
       "      <td>9</td>\n",
       "      <td>9</td>\n",
       "      <td>9</td>\n",
       "      <td>5</td>\n",
       "      <td>513</td>\n",
       "      <td>...</td>\n",
       "      <td>9</td>\n",
       "      <td>9</td>\n",
       "      <td>8300</td>\n",
       "      <td>121</td>\n",
       "      <td>2</td>\n",
       "      <td>999</td>\n",
       "      <td>999</td>\n",
       "      <td>4</td>\n",
       "      <td>26</td>\n",
       "      <td>False</td>\n",
       "    </tr>\n",
       "    <tr>\n",
       "      <th>4</th>\n",
       "      <td>1</td>\n",
       "      <td>6</td>\n",
       "      <td>4</td>\n",
       "      <td>1</td>\n",
       "      <td>1</td>\n",
       "      <td>9</td>\n",
       "      <td>9</td>\n",
       "      <td>9</td>\n",
       "      <td>1</td>\n",
       "      <td>235</td>\n",
       "      <td>...</td>\n",
       "      <td>1</td>\n",
       "      <td>9</td>\n",
       "      <td>1101</td>\n",
       "      <td>121</td>\n",
       "      <td>2</td>\n",
       "      <td>999</td>\n",
       "      <td>999</td>\n",
       "      <td>4</td>\n",
       "      <td>55</td>\n",
       "      <td>True</td>\n",
       "    </tr>\n",
       "  </tbody>\n",
       "</table>\n",
       "<p>5 rows × 32 columns</p>\n",
       "</div>"
      ],
      "text/plain": [
       "   D2002  D2003  D2004  D2005  D2006  D2007  D2008  D2009  D2010  D2011  ...  \\\n",
       "0      1      4      4      2      2      9      9      9      1    422  ...   \n",
       "1      2      3      1      2      2      9      9      9      8    999  ...   \n",
       "2      2      2      1      2      2      9      9      9      7    818  ...   \n",
       "3      2      4      4      2      2      9      9      9      5    513  ...   \n",
       "4      1      6      4      1      1      9      9      9      1    235  ...   \n",
       "\n",
       "   D2024  D2025  D2026  D2027  D2028  D2029  D2030  D2031  age  voted  \n",
       "0      9      9   8300    121      8    999    999      4   31   True  \n",
       "1      6      9   1101    121     12    999    999      4   42   True  \n",
       "2      5      9   1101    121      2    999    999      4   67   True  \n",
       "3      9      9   8300    121      2    999    999      4   26  False  \n",
       "4      1      9   1101    121      2    999    999      4   55   True  \n",
       "\n",
       "[5 rows x 32 columns]"
      ]
     },
     "execution_count": 173,
     "metadata": {},
     "output_type": "execute_result"
    }
   ],
   "source": [
    "df.drop([\"Unnamed: 0\"], axis=1, inplace=True)\n",
    "X = df.iloc[:,:-1]\n",
    "y = df.iloc[:,-1]\n",
    "df.head()"
   ]
  },
  {
   "cell_type": "code",
   "execution_count": 146,
   "id": "b268b2d0",
   "metadata": {},
   "outputs": [
    {
     "name": "stdout",
     "output_type": "stream",
     "text": [
      "<class 'pandas.core.frame.DataFrame'>\n",
      "RangeIndex: 12451 entries, 0 to 12450\n",
      "Data columns (total 32 columns):\n",
      " #   Column  Non-Null Count  Dtype\n",
      "---  ------  --------------  -----\n",
      " 0   D2002   12451 non-null  int64\n",
      " 1   D2003   12451 non-null  int64\n",
      " 2   D2004   12451 non-null  int64\n",
      " 3   D2005   12451 non-null  int64\n",
      " 4   D2006   12451 non-null  int64\n",
      " 5   D2007   12451 non-null  int64\n",
      " 6   D2008   12451 non-null  int64\n",
      " 7   D2009   12451 non-null  int64\n",
      " 8   D2010   12451 non-null  int64\n",
      " 9   D2011   12451 non-null  int64\n",
      " 10  D2012   12451 non-null  int64\n",
      " 11  D2013   12451 non-null  int64\n",
      " 12  D2014   12451 non-null  int64\n",
      " 13  D2015   12451 non-null  int64\n",
      " 14  D2016   12451 non-null  int64\n",
      " 15  D2017   12451 non-null  int64\n",
      " 16  D2018   12451 non-null  int64\n",
      " 17  D2019   12451 non-null  int64\n",
      " 18  D2020   12451 non-null  int64\n",
      " 19  D2021   12451 non-null  int64\n",
      " 20  D2022   12451 non-null  int64\n",
      " 21  D2023   12451 non-null  int64\n",
      " 22  D2024   12451 non-null  int64\n",
      " 23  D2025   12451 non-null  int64\n",
      " 24  D2026   12451 non-null  int64\n",
      " 25  D2027   12451 non-null  int64\n",
      " 26  D2028   12451 non-null  int64\n",
      " 27  D2029   12451 non-null  int64\n",
      " 28  D2030   12451 non-null  int64\n",
      " 29  D2031   12451 non-null  int64\n",
      " 30  age     12451 non-null  int64\n",
      " 31  voted   12451 non-null  bool \n",
      "dtypes: bool(1), int64(31)\n",
      "memory usage: 3.0 MB\n"
     ]
    }
   ],
   "source": [
    "df.info()"
   ]
  },
  {
   "cell_type": "code",
   "execution_count": 147,
   "id": "36a33bab",
   "metadata": {},
   "outputs": [
    {
     "data": {
      "text/plain": [
       "True     10226\n",
       "False     2225\n",
       "Name: voted, dtype: int64"
      ]
     },
     "execution_count": 147,
     "metadata": {},
     "output_type": "execute_result"
    }
   ],
   "source": [
    "df[\"voted\"].value_counts()\n"
   ]
  },
  {
   "cell_type": "code",
   "execution_count": 148,
   "id": "05e963d5",
   "metadata": {},
   "outputs": [
    {
     "data": {
      "text/plain": [
       "D2002   -0.00%\n",
       "D2003    0.02%\n",
       "D2004   -0.10%\n",
       "D2005   -0.01%\n",
       "D2006   -0.07%\n",
       "D2007   -0.11%\n",
       "D2008   -0.11%\n",
       "D2009   -0.11%\n",
       "D2010   -0.03%\n",
       "D2011   -0.13%\n",
       "D2012   -0.12%\n",
       "D2013   -0.16%\n",
       "D2014   -0.18%\n",
       "D2015   -0.12%\n",
       "D2016   -0.09%\n",
       "D2017   -0.09%\n",
       "D2018   -0.12%\n",
       "D2019   -0.13%\n",
       "D2020   -0.02%\n",
       "D2021   -0.17%\n",
       "D2022    0.11%\n",
       "D2023   -0.10%\n",
       "D2024    0.03%\n",
       "D2025   -0.13%\n",
       "D2026   -0.06%\n",
       "D2027   -0.10%\n",
       "D2028   -0.13%\n",
       "D2029    0.08%\n",
       "D2030   -0.07%\n",
       "D2031   -0.07%\n",
       "age      0.26%\n",
       "voted    1.00%\n",
       "Name: voted, dtype: float64"
      ]
     },
     "execution_count": 148,
     "metadata": {},
     "output_type": "execute_result"
    }
   ],
   "source": [
    "df.corr().loc['voted']\n"
   ]
  },
  {
   "cell_type": "code",
   "execution_count": 149,
   "id": "5fc06c47",
   "metadata": {},
   "outputs": [],
   "source": [
    "X=df.drop(['voted','age'],axis=1)\n",
    "Y=df['voted']\n",
    "age=df['age']"
   ]
  },
  {
   "cell_type": "code",
   "execution_count": 150,
   "id": "9dd94753",
   "metadata": {},
   "outputs": [
    {
     "name": "stdout",
     "output_type": "stream",
     "text": [
      "       D2002  D2003  D2004  D2005  D2006  D2007  D2008  D2009  D2010   D2011  \\\n",
      "0      1.00%  4.00%  4.00%  2.00%  2.00%    NaN    NaN    NaN  1.00% 422.00%   \n",
      "1      2.00%  3.00%  1.00%  2.00%  2.00%    NaN    NaN    NaN    NaN     NaN   \n",
      "2      2.00%  2.00%  1.00%  2.00%  2.00%    NaN    NaN    NaN    NaN 818.00%   \n",
      "3      2.00%  4.00%  4.00%  2.00%  2.00%    NaN    NaN    NaN  5.00% 513.00%   \n",
      "4      1.00%  6.00%  4.00%  1.00%  1.00%    NaN    NaN    NaN  1.00% 235.00%   \n",
      "...      ...    ...    ...    ...    ...    ...    ...    ...    ...     ...   \n",
      "12446  2.00%  4.00%  1.00%  2.00%  2.00%    NaN    NaN    NaN  1.00%     NaN   \n",
      "12447  1.00%  3.00%  1.00%  2.00%  2.00%    NaN    NaN    NaN    NaN     NaN   \n",
      "12448  2.00%  6.00%  2.00%  2.00%  2.00%    NaN    NaN    NaN  1.00%     NaN   \n",
      "12449  2.00%    NaN  1.00%  2.00%  1.00%    NaN    NaN    NaN  1.00%     NaN   \n",
      "12450  1.00%  4.00%  1.00%  2.00%  2.00%    NaN    NaN    NaN  2.00%     NaN   \n",
      "\n",
      "       ...  D2023  D2024  D2025     D2026   D2027  D2028  D2029  D2030  D2031  \\\n",
      "0      ...    NaN    NaN    NaN 8,300.00% 121.00%    NaN    NaN    NaN  4.00%   \n",
      "1      ...    NaN  6.00%    NaN 1,101.00% 121.00% 12.00%    NaN    NaN  4.00%   \n",
      "2      ...    NaN  5.00%    NaN 1,101.00% 121.00%  2.00%    NaN    NaN  4.00%   \n",
      "3      ...    NaN    NaN    NaN 8,300.00% 121.00%  2.00%    NaN    NaN  4.00%   \n",
      "4      ...    NaN  1.00%    NaN 1,101.00% 121.00%  2.00%    NaN    NaN  4.00%   \n",
      "...    ...    ...    ...    ...       ...     ...    ...    ...    ...    ...   \n",
      "12446  ...    NaN  1.00%    NaN 1,211.00%     NaN 55.00%  1.00%    NaN    NaN   \n",
      "12447  ...    NaN  1.00%    NaN 8,300.00%     NaN 17.00%  1.00%    NaN    NaN   \n",
      "12448  ...    NaN  4.00%    NaN 1,211.00%     NaN 19.00%  1.00%    NaN    NaN   \n",
      "12449  ...    NaN  6.00%    NaN 1,210.00%     NaN 25.00%  1.00%    NaN    NaN   \n",
      "12450  ...    NaN  1.00%    NaN 1,208.00%     NaN 55.00%  1.00%    NaN    NaN   \n",
      "\n",
      "       age  \n",
      "0       31  \n",
      "1       42  \n",
      "2       67  \n",
      "3       26  \n",
      "4       55  \n",
      "...    ...  \n",
      "12446   62  \n",
      "12447   65  \n",
      "12448   61  \n",
      "12449   53  \n",
      "12450   73  \n",
      "\n",
      "[12451 rows x 31 columns]\n"
     ]
    }
   ],
   "source": [
    "x=X.replace([7,8,9,97,98,99,997,998,999,9997,9998,9999],np.NaN)\n",
    "x=pd.concat([x,age],axis=1) \n",
    "print(x)\n"
   ]
  },
  {
   "cell_type": "code",
   "execution_count": 151,
   "id": "0f55a8a1",
   "metadata": {},
   "outputs": [],
   "source": [
    "cv = ShuffleSplit(n_splits=5, test_size=0.3, random_state=0) #randomly splitting the data into test and train test. \n"
   ]
  },
  {
   "cell_type": "markdown",
   "id": "6cf4c8df",
   "metadata": {},
   "source": [
    "# Random Forest Classifier\n"
   ]
  },
  {
   "cell_type": "code",
   "execution_count": 174,
   "id": "2e5fc420",
   "metadata": {},
   "outputs": [],
   "source": [
    "QDA = QuadraticDiscriminantAnalysis()\n",
    "QDA_accuracy=cross_val_score(QDA, X, y, cv=cv).mean()\n",
    "\n",
    "LR = LogisticRegression()\n",
    "LR_accuracy=cross_val_score(LR, X, y, cv=cv).mean()\n",
    "\n",
    "random_forest = RandomForestClassifier()\n",
    "RF_accuracy=cross_val_score(random_forest, X, y, cv=cv).mean()\n",
    "\n",
    "KNN = KNeighborsClassifier()\n",
    "KNN_accuracy=cross_val_score(KNN, X, y, cv=cv).mean()\n",
    "\n",
    "\n",
    "LDA = LinearDiscriminantAnalysis()\n",
    "LDA_accuracy=cross_val_score(LDA, X, y, cv=cv).mean()\n",
    "\n",
    "naive_bayes = GaussianNB()\n",
    "NB_accuracy=cross_val_score(naive_bayes, X, y, cv=cv).mean()\n"
   ]
  },
  {
   "cell_type": "code",
   "execution_count": 175,
   "id": "96b9a890",
   "metadata": {
    "scrolled": false
   },
   "outputs": [
    {
     "data": {
      "text/html": [
       "<div>\n",
       "<style scoped>\n",
       "    .dataframe tbody tr th:only-of-type {\n",
       "        vertical-align: middle;\n",
       "    }\n",
       "\n",
       "    .dataframe tbody tr th {\n",
       "        vertical-align: top;\n",
       "    }\n",
       "\n",
       "    .dataframe thead th {\n",
       "        text-align: right;\n",
       "    }\n",
       "</style>\n",
       "<table border=\"1\" class=\"dataframe\">\n",
       "  <thead>\n",
       "    <tr style=\"text-align: right;\">\n",
       "      <th></th>\n",
       "      <th>Model</th>\n",
       "      <th>Accuracy</th>\n",
       "    </tr>\n",
       "  </thead>\n",
       "  <tbody>\n",
       "    <tr>\n",
       "      <th>4</th>\n",
       "      <td>Random Forest</td>\n",
       "      <td>86.69%</td>\n",
       "    </tr>\n",
       "    <tr>\n",
       "      <th>1</th>\n",
       "      <td>K-Nearest Neighbors</td>\n",
       "      <td>84.47%</td>\n",
       "    </tr>\n",
       "    <tr>\n",
       "      <th>2</th>\n",
       "      <td>Linear Discriminant Analysis</td>\n",
       "      <td>83.75%</td>\n",
       "    </tr>\n",
       "    <tr>\n",
       "      <th>0</th>\n",
       "      <td>Logistic Regression</td>\n",
       "      <td>83.27%</td>\n",
       "    </tr>\n",
       "    <tr>\n",
       "      <th>3</th>\n",
       "      <td>Quadratic Discriminant Analysis</td>\n",
       "      <td>69.86%</td>\n",
       "    </tr>\n",
       "    <tr>\n",
       "      <th>5</th>\n",
       "      <td>Bayes</td>\n",
       "      <td>69.34%</td>\n",
       "    </tr>\n",
       "  </tbody>\n",
       "</table>\n",
       "</div>"
      ],
      "text/plain": [
       "                             Model  Accuracy\n",
       "4                    Random Forest    86.69%\n",
       "1              K-Nearest Neighbors    84.47%\n",
       "2     Linear Discriminant Analysis    83.75%\n",
       "0              Logistic Regression    83.27%\n",
       "3  Quadratic Discriminant Analysis    69.86%\n",
       "5                            Bayes    69.34%"
      ]
     },
     "execution_count": 175,
     "metadata": {},
     "output_type": "execute_result"
    }
   ],
   "source": [
    "\n",
    "\n",
    "pd.options.display.float_format = '{:,.2f}%'.format\n",
    "accuracies1 = pd.DataFrame({\n",
    "    'Model'       : ['Logistic Regression', 'K-Nearest Neighbors', 'Linear Discriminant Analysis', 'Quadratic Discriminant Analysis', 'Random Forest','Bayes'],\n",
    "    'Accuracy'    : [100*LR_accuracy, 100*KNN_accuracy, 100*LDA_accuracy, 100*QDA_accuracy, 100*RF_accuracy, 100*NB_accuracy],\n",
    "    }, columns = ['Model', 'Accuracy'])\n",
    "\n",
    "accuracies1.sort_values(by='Accuracy', ascending=False)"
   ]
  },
  {
   "cell_type": "markdown",
   "id": "efefb165",
   "metadata": {},
   "source": [
    "# Train-Test"
   ]
  },
  {
   "cell_type": "code",
   "execution_count": 154,
   "id": "b495aa32",
   "metadata": {},
   "outputs": [],
   "source": [
    "X_train, X_test, y_train, y_test = train_test_split(X, y, test_size=0.33, random_state=42)"
   ]
  },
  {
   "cell_type": "markdown",
   "id": "379f806a",
   "metadata": {},
   "source": [
    "# Selected top 3 classifiers"
   ]
  },
  {
   "cell_type": "markdown",
   "id": "a05ecf29",
   "metadata": {},
   "source": [
    "# GaussianNB Classifier"
   ]
  },
  {
   "cell_type": "code",
   "execution_count": 155,
   "id": "ab8c7add",
   "metadata": {},
   "outputs": [],
   "source": [
    "lr = LogisticRegression()\n",
    "lr.fit(X_train,y_train)\n",
    "predictLR = lr.predict(X_test)"
   ]
  },
  {
   "cell_type": "code",
   "execution_count": 156,
   "id": "c96aa8c2",
   "metadata": {},
   "outputs": [
    {
     "data": {
      "text/plain": [
       "0.6955463616451691"
      ]
     },
     "execution_count": 156,
     "metadata": {},
     "output_type": "execute_result"
    }
   ],
   "source": [
    "accuracy_score(y_test,predictGNB) "
   ]
  },
  {
   "cell_type": "code",
   "execution_count": 157,
   "id": "72863884",
   "metadata": {},
   "outputs": [
    {
     "name": "stdout",
     "output_type": "stream",
     "text": [
      "[[ 393  326]\n",
      " [ 925 2465]]\n",
      "\n",
      "\n",
      "              precision    recall  f1-score   support\n",
      "\n",
      "       False       0.30      0.55      0.39       719\n",
      "        True       0.88      0.73      0.80      3390\n",
      "\n",
      "    accuracy                           0.70      4109\n",
      "   macro avg       0.59      0.64      0.59      4109\n",
      "weighted avg       0.78      0.70      0.73      4109\n",
      "\n"
     ]
    }
   ],
   "source": [
    "print(confusion_matrix(y_test,predictGNB))\n",
    "print(\"\\n\")\n",
    "print(classification_report(y_test,predictGNB))"
   ]
  },
  {
   "cell_type": "code",
   "execution_count": 158,
   "id": "7cc9e49b",
   "metadata": {},
   "outputs": [
    {
     "data": {
      "image/png": "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\n",
      "text/plain": [
       "<Figure size 432x288 with 1 Axes>"
      ]
     },
     "metadata": {
      "needs_background": "light"
     },
     "output_type": "display_data"
    }
   ],
   "source": [
    "np.set_printoptions(suppress=True) \n",
    "matNB = confusion_matrix(y_test, predictGNB) \n",
    "sns.heatmap(matNB, square=True, annot=True, cbar=False,fmt=\"g\"); \n",
    "plt.xlabel('Predicted value');\n",
    "plt.ylabel('True value');"
   ]
  },
  {
   "cell_type": "code",
   "execution_count": 159,
   "id": "d811faf3",
   "metadata": {},
   "outputs": [
    {
     "data": {
      "text/plain": [
       "0.5218611257555311"
      ]
     },
     "execution_count": 159,
     "metadata": {},
     "output_type": "execute_result"
    }
   ],
   "source": [
    "np.mean(cross_val_score(model, X, y, cv=5))"
   ]
  },
  {
   "cell_type": "markdown",
   "id": "5c6451d2",
   "metadata": {},
   "source": [
    "# Random Forest Classifier"
   ]
  },
  {
   "cell_type": "code",
   "execution_count": 160,
   "id": "519beb53",
   "metadata": {},
   "outputs": [],
   "source": [
    "model = RandomForestClassifier(n_estimators=100, random_state=0)\n",
    "model.fit(X_train, y_train)\n",
    "predictRF = model.predict(X_test)"
   ]
  },
  {
   "cell_type": "code",
   "execution_count": 161,
   "id": "5adaace4",
   "metadata": {},
   "outputs": [
    {
     "data": {
      "text/plain": [
       "0.8422973959600876"
      ]
     },
     "execution_count": 161,
     "metadata": {},
     "output_type": "execute_result"
    }
   ],
   "source": [
    "accuracy_score(y_test,predictRF)"
   ]
  },
  {
   "cell_type": "code",
   "execution_count": 162,
   "id": "c4ef47de",
   "metadata": {},
   "outputs": [
    {
     "data": {
      "text/plain": [
       "0.5218611257555311"
      ]
     },
     "execution_count": 162,
     "metadata": {},
     "output_type": "execute_result"
    }
   ],
   "source": [
    "np.mean(cross_val_score(model, X, y, cv=5))"
   ]
  },
  {
   "cell_type": "code",
   "execution_count": 163,
   "id": "2f4f8b58",
   "metadata": {},
   "outputs": [
    {
     "name": "stdout",
     "output_type": "stream",
     "text": [
      "[[ 168  551]\n",
      " [  97 3293]]\n",
      "\n",
      "\n",
      "              precision    recall  f1-score   support\n",
      "\n",
      "       False       0.63      0.23      0.34       719\n",
      "        True       0.86      0.97      0.91      3390\n",
      "\n",
      "    accuracy                           0.84      4109\n",
      "   macro avg       0.75      0.60      0.63      4109\n",
      "weighted avg       0.82      0.84      0.81      4109\n",
      "\n"
     ]
    }
   ],
   "source": [
    "print(confusion_matrix(y_test,predictRF))\n",
    "print(\"\\n\")\n",
    "print(classification_report(y_test,predictRF))"
   ]
  },
  {
   "cell_type": "code",
   "execution_count": 168,
   "id": "5492d600",
   "metadata": {},
   "outputs": [
    {
     "data": {
      "image/png": "iVBORw0KGgoAAAANSUhEUgAAAQYAAAEGCAYAAACHNTs8AAAAOXRFWHRTb2Z0d2FyZQBNYXRwbG90bGliIHZlcnNpb24zLjMuNCwgaHR0cHM6Ly9tYXRwbG90bGliLm9yZy8QVMy6AAAACXBIWXMAAAsTAAALEwEAmpwYAAASvUlEQVR4nO3deZQU5bnH8e/DtMAMiw6LnoiiuKIYIcoiCogmUYjmigli1NybGAyKC0Yk0Vy8xkS4uQpR40IAIYYoAnJVcEEEMQgaZJOggBAwICIuw6rC4GxP/uhiHHiHoUG6q5n5fc6ZM1VvVXU9PXPmN2+9VV1l7o6ISEW14i5ARLKPgkFEAgoGEQkoGEQkoGAQkUAi7gL2JDf3GJ0uOYh8M//YuEuQ/TBv/WtWWbt6DCISUDCISEDBICIBBYOIBBQMIhJQMIhIQMEgIgEFg4gEFAwiElAwiEhAwSAiAQWDiAQUDCISUDCISEDBICIBBYOIBBQMIhJQMIhIQMEgIgEFg4gEFAwiElAwiEhAwSAiAQWDiAQUDCISUDCISEDBICIBBYOIBBQMIhJQMIhIQMEgIgEFg4gEFAwiElAwiEhAwSAiAQWDiAQUDCISUDCISEDBICIBBYOIBBQMIhJQMIhIQMEgIgEFg4gEFAwiElAwiEhAwSAiAQWDiAQUDCISUDCISEDBcIANHz6E999fyIIF03Zp79v3pyxe/CoLF05n8OBfA5BIJHj00T8wf/7LLFo0gwEDro+jZAEmzR3PkzMe44npoxjz0ggAfn7rT3lh4f/zxPRRPDF9FGef3wGAQ/MbMmziA8xc+RIDBt8cZ9lpk4i7gOrm8ccnMnz4GEaNuq+8rUuXjlx88Xdp164bRUVFNG3aGIAf/vAi6tSpTbt2F5KbW5dFi17hqaeeY+3adXGVX6P1vewXbN20dZe2cY9OZOzwCbu0fbmjiBFDRnP8yS04rmWLTJaYMWkLBjNrCVwCNAMcWA885+7vpmuf2eCNN+bRvPlRu7T16fNjhg4dRlFREQAFBRsBcHfy8vLIyckhN7cuRUXFfP755xmvWfbNjsIdLJ73Dkcd2yzuUtImLYcSZnYbMB4wYB4wP5oeZ2a3p2Of2eyEE1pwzjntmTVrEtOmTeDMM08H4JlnprB9+3ZWr57PP/85hwceGMnmzVv38mqSFg4PjRvKmKkj6XHV98ubL7v6Usa+8mfuuO82GhxaP8YCMytdPYbeQCt3L67YaGb3AUuB/6tsIzPrA/QBSCQakUhUj19EIpEgP/9QunTpQdu2rXniiWGcckon2rVrQ2lpGccd1578/EN55ZWJvPrq66xZ80HcJdc411xyAxs+2Uh+48N4ePwfeH/V+zw9ZjKj7/8r7s51v+rNzb+5gUH974m71IxI1+BjGXBkJe3fiJZVyt1Huntbd29bXUIB4MMPP2LSpKkALFiwmLKyMpo0aUSvXpcwbdpMSkpKKCjYyJw5C8t7E5JZGz5JHt5t3riFmVNnc+q3TmHThs2UlZXh7kwa+wKt2rSMucrMSVcw/AKYYWYvmdnI6GsqMAOonsO4VXj++Wl07Xo2kDysqF37EDZs2MS6dR+Wt+fl5dK+/bdYseK9OEutkerm1iWvXm75dIdz2/He8tU0PrxR+Tpdu3fmvRWr4yox49JyKOHuU83sJKA9ycFHA9YB8929NB37zBZjxjxI584dadIkn1Wr3uTuu+9nzJinGDFiCAsWTKOoqJhrrrkVgOHD/8rIkUNZuHA6Zsbjj09kyZLlMb+DmqdR03yGjB4EQE4ih5effYU3Z87jrgcHclKrE3B3Plr3Mb//1dDybSbNHU+9+vU4pHaCcy/sRL8rBrB65ftxvYUDztw97hoqlZt7THYWJpX6Zv6xcZcg+2He+tessnZd4CQiAQWDiAQUDCISUDCISEDBICIBBYOIBBQMIhJQMIhIQMEgIgEFg4gEFAwiElAwiEhAwSAiAQWDiAQUDCISUDCISEDBICIBBYOIBBQMIhJQMIhIQMEgIgEFg4gEFAwiElAwiEhAwSAigZSDwczqpbMQEckeew0GMzvbzJYB70bzrc1sWNorE5HYpNJjuB+4ENgI4O6LgS7pLEpE4pXSoYS7f7BbU7V+YrVITZdIYZ0PzOxswM2sNtCP6LBCRKqnVHoM1wE3AM2AdUCbaF5Eqqm99hjcfQNwVQZqEZEssddgMLPHAN+93d1/lpaKRCR2qYwxvFBhui5wKbA+PeWISDZI5VDi6YrzZjYOeCVtFYlI7PbnkugTgeYHuhARyR6pjDF8TnKMwaLvHwO3pbkuEYlRKocSDTJRiIhkjz0Gg5mdUdWG7v7WgS9HRLJBVT2GP1SxzIHzD3AtIpIl9hgM7n5eJgsRkeyRynUMmNlpwKkkr2MAwN3/mq6iRCReqZyV+A3QlWQwTAG6A68DCgaRaiqV6xh6At8GPnb3q4HWQJ20ViUisUolGArdvQwoMbOGwKfAcektS0TilMoYwwIzOwx4FFgIfAHMS2dRIhKvVC5wuj6aHG5mU4GG7v52essSkTilcjPYyWZ2pZnVc/c1CgWR6i+VMYb7gE7AMjObaGY9zazu3jYSkYOXuQf3YKl8RbMcklc7/hzo5u4N01lYonaz1AqTrFC4fnbcJch+OKTJcVZZe6oXOOUC3wcuB84Axhy40kQk26RygdMEoAMwFXgEmBmdvhSRaiqVHsNjwJXurmdJiNQQqZyunJqJQkQke+hp1yISUDCISCCVC5zMzH5sZndG883NrH36SxORuKTSYxgGdASuiOY/J3l2QkSqqVTOSnRw9zPMbBGAu2+OHm4rItVUKj2G4uiqRwcws6aArmMQqcZSCYYHgWeBw81sMMm7N/1vWqsSkVilch3DWDNbSPIuTgb0cPd3016ZiMQmlUuimwPbgecrtrn72nQWJiLxSWXw8UW+ekRdXaAFsAJolca6RCRGqRxKfLPifPSEqmvTVpGIxG6fr3yMHk3XLg21iEiWSGWMoX+F2Vok78dQkLaKRCR2qYwxVHzadQnJMYen01OOiGSDKoMhurCpvrv/MkP1iEgW2OMYg5klopuznJHBekQkC1TVY5hHMhT+YWbPAROBbTsXuvszaa5NRGKSyhhDI2AjyTtE77yewQEFg0g1VVUwHB6dkVjCV4Gwk27tLlKNVRUMOUB9dg2EnRQMItVYVcHwkbv/LmOViEjWqOrKx0qfUCMi1V9VwfDtjFUhIlllj8Hg7psyWYiIZA/dPl5EAgoGEQkoGEQkoGAQkYCCQUQCCgYRCSgYRCSgYBCRgIJBRAIKBhEJKBhEJKBgEJGAgkFEAgoGEQkoGEQkoGAQkYCCQUQCCgYRCSgYRCSgYBCRgIJBRAKpPLtSvoabbuxN795XYmaMHv0kDz40iifH/omTTjoegMMObciWrZ/Rtt0FMVdac3z5ZRE/ueGXFBUXU1pSynfP68SN1/wnQx8exWtvzCVxSIKjm32DQf/dn4YN6lNcXMxv732IpctXYrWM22++jvZnnA7Atf3voGDjJkpLSjmj9Wnccev15OTkxPwOvz5zz86nzSVqN8vOwvZBq1YnM/aJYXQ8+yKKioqZ8sJYbrjp16xatbp8nSH33MnWzz5j0OAH4iv0AChcPzvuElLm7hQW7iAvL5fikhL+q+8Abr/5Wr7Ytp0OZ7YhkcjhvmGjAeh/fW/GPf08S5evZNDA/mzcvIW+t/4P40f9kVq1avHFtm3Ur1cPd+eWgYO54PxOfO87XeN9g/vgkCbHVfpgKR1KpFHLlicyd+5bFBbuoLS0lFmz36THJd12Wadnz+8zfsLkmCqsmcyMvLxcAEpKSigpKcHMOKfDmSQSyf/2p7dqySefbgDgvTVr6dC2DQCN8w+jQf16LF2+EoD69eolX6e0lOKSYqyaPMBNwZBGS5cup3Pns2jUKJ/c3Lp073Y+Rx11ZPnyzp068MmnBbv0ICQzSktL+eFPbqDLxVfQsd23OL1Vy12WP/viNDp1bAfAySe04G+z51BSUsq69R+zbMUqPv6koHzdPrcM5NyLr6BeXh4XnNcpo+8jXTIeDGZ2dRXL+pjZAjNbUFa2LZNlpcXy5asYMuQRpr40jikvjGXx28soLSktX3755T2YoN5CLHJycnh6zCPMePZx3ln2T1b+a035shFjxpGTk8PFF5wHwKUXXcgRTZtwee9+3PPHEbQ57RRyEl+NI4y8fzB/mzyWoqJi5i5cnOm3khYZH2Mws7Xu3nxv61WHMYbdDbr7dtat+4jhI8aQk5PD2jULaX9Wdz788KO4S/vaDqYxht0N+/NYcuvW4eorezJ5ynSemjSFUQ/+nty6dStd/6pr+/O722/m+BbH7NI+ecp0lry7koG3Xp+Jsg+IPY0xpOWshJm9vadFwBHp2Ge2atq0MQUFGzn66CPp0aM7nTr/BwDf+XZnVqxYVS1C4WCzafMWEokEDRvUZ8eXX/Lm/EX87MeX8fqbCxg9diJ/efjeXUKhcMcO3CEvty5/n/cWiZwcjm9xDNu3F7JteyFNmzSipKSUWXMWcGbrVjG+swMnXacrjwAuBDbv1m7A39O0z6w0ccKjNGqcT3FxCf36DWTLlq0A9Op1iQYdY1KwcTMDBw2ltKwML3MuPL8zXc/pQPdeP6OouJif/2IgkByA/M2vbmLT5q1ce8tArFYtjmjamN/fOQCA7Tt2cONtd1FUXExZaRkdzmxNrx4XxfnWDpi0HEqY2WjgMXd/vZJlT7r7lXt7jep4KFGdHcyHEjVZRg8l3L13Fcv2GgoiEi+drhSRgIJBRAIKBhEJKBhEJKBgEJGAgkFEAgoGEQkoGEQkoGAQkYCCQUQCCgYRCSgYRCSgYBCRgIJBRAIKBhEJKBhEJKBgEJGAgkFEAgoGEQkoGEQkoGAQkYCCQUQCCgYRCSgYRCSgYBCRgIJBRAIKBhEJKBhEJKBgEJGAgkFEAgoGEQkoGEQkoGAQkYCCQUQCCgYRCSgYRCSgYBCRgIJBRAIKBhEJKBhEJKBgEJGAgkFEAgoGEQkoGEQkoGAQkYCCQUQCCgYRCSgYRCSgYBCRgLl73DXUOGbWx91Hxl2HpKYm/r7UY4hHn7gLkH1S435fCgYRCSgYRCSgYIhHjTperQZq3O9Lg48iElCPQUQCCgYRCSgYMsjMupnZCjNbZWa3x12PVM3M/mxmn5rZkrhryTQFQ4aYWQ7wCNAdOBW4wsxOjbcq2Yu/AN3iLiIOCobMaQ+scvd/uXsRMB64JOaapAruPgvYFHcdcVAwZE4z4IMK8+uiNpGso2DIHKukTeeKJSspGDJnHXB0hfmjgPUx1SJSJQVD5swHTjSzFmZWG/gR8FzMNYlUSsGQIe5eAtwIvAy8Czzl7kvjrUqqYmbjgDnAyWa2zsx6x11TpuiSaBEJqMcgIgEFg4gEFAwiElAwiEhAwSAiAQXDQcjMSs3sH2a2xMwmmlne13itv5hZz2h6VFUf7DKzrmZ29n7sY42ZNdnfGg/068jeKRgOToXu3sbdTwOKgOsqLow+ybnP3P0ad19WxSpdgX0OBjn4KBgOfrOBE6L/5n8zsyeBd8wsx8yGmNl8M3vbzK4FsKSHzWyZmb0IHL7zhcxsppm1jaa7mdlbZrbYzGaY2bEkA+iWqLfS2cyamtnT0T7mm9k50baNzWyamS0ysxFU8jkRM+trZvdWmP+pmT0UTU8ys4VmttTMglu3m9mxFe+RYGYDzOyuaPp4M5sabT/bzFp+/R9xDeTu+jrIvoAvou8JYDLQl+R/821Ai2hZH+COaLoOsABoAfwAmA7kAEcCW4Ce0XozgbZAU5KfBN35Wo2i73cBAyrU8STQKZpuDrwbTT8I3BlNX0Tyw2JNdnsPTUl+DH3n/EsVXmvn/nKBJUDjaH4N0AQ4FlhSYdsBwF3R9AzgxGi6A/Bq3L+vg/ErsT9hIrHLNbN/RNOzgdEku/jz3H111H4BcPrO8QPgUOBEoAswzt1LgfVm9molr38WMGvna7n7nu5J8B3gVLPyDkFDM2sQ7eMH0bYvmtnm3Td09wIz+5eZnQWsBE4G3ogW9zOzS6Ppo6O6N+7xpxExs/rRz2FihZrq7G07CSkYDk6F7t6mYkP0h7CtYhNwk7u/vNt632PvH/e2FNaB5KFoR3cvrKSWVLafAPQClgPPurubWVeSgdPR3beb2Uyg7m7blbDrYfDO5bWALbv/bGTfaYyh+noZ6GtmhwCY2UlmVg+YBfwoGoP4BnBeJdvOAc41sxbRto2i9s+BBhXWm0byg2FE67WJJmcBV0Vt3YH8PdT4DNADuIJkSECyZ7M5CoWWJHsvu/sEODway6gDXAzg7p8Bq83ssmjfZmat97BvqYKCofoaBSwD3ooG6kaQ7CE+S7Lr/g7wJ+C13Td09wKSYxTPmNlivvqjfR64dOfgI9APaBsNbi7jq7MjvwW6mNlbJA9p1lZWoLtvjmo8xt3nRc1TgYSZvQ3cDbxZyXbFwO+AucALJHscO10F9I7qXopun7df9OlKEQmoxyAiAQWDiAQUDCISUDCISEDBICIBBYOIBBQMIhL4N9vAMVQ4pOWeAAAAAElFTkSuQmCC\n",
      "text/plain": [
       "<Figure size 432x288 with 1 Axes>"
      ]
     },
     "metadata": {
      "needs_background": "light"
     },
     "output_type": "display_data"
    }
   ],
   "source": [
    "np.set_printoptions(suppress=True) \n",
    "matNB = confusion_matrix(y_test, predictRF) \n",
    "sns.heatmap(matNB, square=True, annot=True, cbar=False,fmt=\"g\"); \n",
    "plt.xlabel('Predicted value');\n",
    "plt.ylabel('True value');"
   ]
  },
  {
   "cell_type": "markdown",
   "id": "e727bd73",
   "metadata": {},
   "source": [
    "# KNeighborsClassifier"
   ]
  },
  {
   "cell_type": "code",
   "execution_count": 164,
   "id": "5e21592b",
   "metadata": {},
   "outputs": [],
   "source": [
    "from sklearn.neighbors import KNeighborsClassifier\n",
    "kmodel = KNeighborsClassifier()\n",
    "\n",
    "KNE = KNeighborsClassifier()\n",
    "KNE.fit(X_train,y_train)\n",
    "predictKNE = lr.predict(X_test)"
   ]
  },
  {
   "cell_type": "code",
   "execution_count": 165,
   "id": "865d86ec",
   "metadata": {},
   "outputs": [
    {
     "data": {
      "text/plain": [
       "0.8252616208323194"
      ]
     },
     "execution_count": 165,
     "metadata": {},
     "output_type": "execute_result"
    }
   ],
   "source": [
    "accuracy_score(y_test,predictKNE) "
   ]
  },
  {
   "cell_type": "code",
   "execution_count": 166,
   "id": "394ad10f",
   "metadata": {},
   "outputs": [
    {
     "name": "stdout",
     "output_type": "stream",
     "text": [
      "[[  16  703]\n",
      " [  15 3375]]\n",
      "\n",
      "\n",
      "              precision    recall  f1-score   support\n",
      "\n",
      "       False       0.52      0.02      0.04       719\n",
      "        True       0.83      1.00      0.90      3390\n",
      "\n",
      "    accuracy                           0.83      4109\n",
      "   macro avg       0.67      0.51      0.47      4109\n",
      "weighted avg       0.77      0.83      0.75      4109\n",
      "\n"
     ]
    }
   ],
   "source": [
    "print(confusion_matrix(y_test,predictKNE))\n",
    "print(\"\\n\")\n",
    "print(classification_report(y_test,predictKNE))"
   ]
  },
  {
   "cell_type": "code",
   "execution_count": 167,
   "id": "0e789d75",
   "metadata": {},
   "outputs": [
    {
     "data": {
      "image/png": "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\n",
      "text/plain": [
       "<Figure size 432x288 with 1 Axes>"
      ]
     },
     "metadata": {
      "needs_background": "light"
     },
     "output_type": "display_data"
    }
   ],
   "source": [
    "np.set_printoptions(suppress=True)  \n",
    "matKNE = confusion_matrix(y_test, predictKNE)
    "sns.heatmap(matKNE, square=True, annot=True, cbar=False,fmt=\"g\");\n",
    "plt.xlabel('Predicted value');\n",
    "plt.ylabel('True value');"
   ]
  }
 ],
 "metadata": {
  "kernelspec": {
   "display_name": "Python 3",
   "language": "python",
   "name": "python3"
  },
  "language_info": {
   "codemirror_mode": {
    "name": "ipython",
    "version": 3
   },
   "file_extension": ".py",
   "mimetype": "text/x-python",
   "name": "python",
   "nbconvert_exporter": "python",
   "pygments_lexer": "ipython3",
   "version": "3.8.8"
  }
 },
 "nbformat": 4,
 "nbformat_minor": 5
}
